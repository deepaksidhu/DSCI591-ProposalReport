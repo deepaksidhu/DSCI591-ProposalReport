{
 "cells": [
  {
   "cell_type": "markdown",
   "metadata": {},
   "source": [
    "# Data Science Meets Government of Canada Web Services\n",
    "\n",
    "***By Anita Li, Deepak Sidhu, Jianru Deng, Sakshi Jain***<br>\n",
    "*May 14th, 2021*\n",
    "\n"
   ]
  },
  {
   "cell_type": "markdown",
   "metadata": {},
   "source": [
    "## Proposal Report\n",
    "\n",
    "### 1. Executive Summary\n",
    "\n",
    "\n"
   ]
  },
  {
   "cell_type": "markdown",
   "metadata": {},
   "source": [
    "\n",
    "The Web Analytics Team of the Government of Canada (GoC) is seeking to supplement their current Adobe Analytics (AA) workflows with data science techniques. To tackle their questions, our team will provide an overview of available data science techniques related to web services, and mainly focus on three techniques: time series forecasting, prediction on service satisfaction, and survey clustering.  The final report will highlight the value added by supplementing AA insights with data science techniques. The final deliverable is a Jupyter Book providing documentation for and the application of the selected data science techniques.\n"
   ]
  },
  {
   "cell_type": "markdown",
   "metadata": {},
   "source": [
    "### 2. Introduction\n",
    "\n",
    "\n"
   ]
  },
  {
   "cell_type": "markdown",
   "metadata": {},
   "source": [
    "The Web Analytics Team currently leverages AA to understand and analyze web traffic data ({numref}`adobe-image`). Although AA is a powerful tool, it only covers a small portion of data science techniques. Here are some examples of data science techniques that are not part of the scope of AA: time series forecasting, prediction of service satisfaction, survey clustering, visitor segmentation, recommender systems, Chatbot, and A/B testing.\n",
    "\n",
    "```{figure} img/adobe-eda.png\n",
    "---\n",
    "width: 600px\n",
    "height: 300px\n",
    "name: adobe-image\n",
    "---\n",
    "Adobe Analytics dashboard showing various visualizations options for displaying web traffic\n",
    "```\n",
    "\n",
    "\n",
    "Sample data will be exported from AA to demonstrate the workflow and added value of data science techniques. Depending on the specific tasks, different date ranges and metrics may be extracted from the data warehouse. The objectives of this project are 1) overview of available data science techniques related to web services; 2) demonstration on three typical data science techniques: time series forecasting, prediction on service satisfaction, and survey clustering; 3) showing the benefits and value-added by employing data science techniques in addition to those offered by AA. The deliverable of this project will be a Jupyter book including documentation, three models with a processed datasets, and well-documented scripts written in Python.\n"
   ]
  },
  {
   "cell_type": "markdown",
   "metadata": {},
   "source": [
    "### 3. Data Science Techniques\n"
   ]
  },
  {
   "cell_type": "markdown",
   "metadata": {},
   "source": [
    "#### 3.1 Jupyter Book\n",
    "\n",
    "Jupyter Book is an open-source tool for producing quality books based on computational material and data science techniques implemented using the Python language {cite}`van1995python`. The main advantage of Jupyter Book over AA is that it provides a clear and reproducible workflow for the analysis of data. We will also explore the options of getting direct data access from AA through Python wrapper {cite}`aanalytics2`. The following sections will describe the techniques in more detail.\n"
   ]
  },
  {
   "cell_type": "markdown",
   "metadata": {},
   "source": [
    "#### 3.2 Time Series Forecasting\n",
    "\n",
    "2 Million average unique visitors come to the GoC's website daily to apply for visas, to browse taxes, and navigate benefits pages. These are the top few reasons to come on the website.  {numref}`visitor-traffic` below shows the  traffic trend for the last 2 years:\n",
    "\n",
    "\n",
    "```{figure} img/visitors-trend.PNG\n",
    "---\n",
    "height: 300px\n",
    "name: visitor-traffic\n",
    "---\n",
    "Daily Web Traffic of unique visotrs coming to the Government of Canada website\n",
    "```\n",
    "\n",
    "According to www.similarweb.com, GoC is one of the top 20 websites visited in Canada. Hence, It’s useful to predict how many visitors would be visiting GoC's website daily. The data science application of **time series forecasting** will be used to predict traffic on the GoC's website. There seems to be a positive trend in website traffic. It started from 1M and reached 4M by the end of April 2021. Also, there is a strong seasonal signal with 7 days. The traffic is going down every weekend and then reaching the top every Monday. Also, there is a strong influence of external events such as there was a peak on 10/21/2019 because of Canadian election day.\n",
    "\n",
    "Baseline models such as **ARIMA** models are a good start and then move to complicated models such as **recursive forecasting** in Machine learning to predict traffic. {numref}`time-series-model` below shows the workflow for training a time series model on web traffic data {cite}`timeseries`.\n",
    "\n",
    "```{figure} img/funnel.PNG\n",
    "---\n",
    "height: 300px\n",
    "name: time-series-model\n",
    "---\n",
    "Time series workflow for the daily web traffic of visitors to the Government of Canada website\n",
    "```\n",
    "\n",
    "During the US election 2016, GoC website became temporarily inaccessible to users as a result of a significant increase in the volume of traffic. It's bad for business, for the company's image, and users' experience. Hence, predicting web traffic will not only help in improving the server's performance but also in managing internal resources such as website maintenance. \n",
    "\n",
    "```{figure} img/page-load-error.PNG\n",
    "---\n",
    "height: 300px\n",
    "name: load-error\n",
    "---\n",
    "\n",
    "```\n",
    "\n",
    "Due to the seasonality and irregular data, prediction intervals would be used to quantify the uncertainty.\n",
    "\n",
    "\n"
   ]
  },
  {
   "cell_type": "markdown",
   "metadata": {},
   "source": [
    "#### 3.3 Prediction on Web Satisfaction \n",
    "\n",
    "Given the fact that only 5% of visitors are invited to the survey, it is worthwhile to predict the satisfaction level of the rest based on their online behaviors with the GoC website. Those behaviors or attributes include geographic information, time spent on pages, and referral page sources, etc. Those visiting behaviors will be combined as features, and an empirical model will be evaluated and proposed.  As a result, the model  ({numref}`prediction-satisfaction`) will predict what the probable satisfaction is, and what role a feature plays in those variations.\n",
    "\n",
    "\n",
    "```{figure} img/prediction-satisfaction.png \n",
    "---\n",
    "height: 200px\n",
    "name: prediction-satisfaction\n",
    "---\n",
    "An illustration of a prediction model with input of various online behaviors and outputs the probable satisfaction levels.\n",
    "```\n",
    "\n",
    "Studies on such quality of experience (QoE) have been done massively in profit-driven contexts {cite}`suchanek2018customer,ballestar2019predicting`. This project on GoC website will enhance and enrich the operation and management in GoC by using machine learning techniques to **predict satisfaction on web services**. Simple models will be initialized as Logistic regression, Random Forest in the binary prediction phase, followed by a multilayer perceptron (MLP) artificial neural network (ANN). Furthermore, page referring sequences will be parsed as sequential data to be applied in an LSTM model. To evaluate the model’s performance, the assessment criteria include accuracy, precision, recall, and F-1 score. In phase two as multiclass prediction, RMSE is proposed to use as the starting metric.\n",
    "\n",
    "\n",
    "The findings of this predicting model involve two parts: the first part is the probable prediction of website satisfaction given a visit; the second is what behaviors are related to lower or higher satisfaction results. This will be helpful for the web analytics team, and public sectors to better understand visitors’ behavior and guidance towards web service redesign and maintenance. However, possible limitations are the interpretation of the web behaviors and the model implementation, the imbalanced training set, the possible incorporation and processing of open text data.\n"
   ]
  },
  {
   "cell_type": "markdown",
   "metadata": {},
   "source": [
    "#### 3.4 Survey Clustering\n",
    "\n",
    "The GoC has text feedback of visitor’s experience navigating through the web pages. {numref}`feedback-examples` displays some examples of the visitor feedback:\n",
    "\n",
    "```{figure} img/survey.png \n",
    "---\n",
    "height: 250px\n",
    "name: feedback-examples\n",
    "---\n",
    "Example of text feedback of visitors based on the experience of naviagating through the web pages\n",
    "```\n",
    "\n",
    "The data science technique of **Topic Modelling** {cite}`blei2003modeling` will be used to cluster the topic of the text response of the visitor’s browsing experience. Topic Modelling with **Latent Dirichlet Allocation (LDA)** {cite}`944937` will be employed to train the text data and to extract clusters of topics that are dominant in the text feedback. Each topic cluster determined by the LDA model would be labeled by the major sentiment expressed in the distribution of the words that makes up the topic. An illustration of assigning a topic to visitor feedback is demonstrated below:\n",
    "\n",
    "The trained LDA model assigns the feedback into the **Technical Issues** bucket in {numref}`technical-bucket`.\n",
    "\n",
    "```{figure} img/technical-bucket.png \n",
    "---\n",
    "height: 150px\n",
    "name: technical-bucket\n",
    "---\n",
    "An example of techinical concern expressed by the visitor and LDA model classification\n",
    "```\n",
    "\n",
    "For the next visitor feedback, the LDA model assigns the feedback to the **Complex Flow** bucket in {numref}`complex-bucket`.\n",
    "\n",
    "```{figure} img/Complex-bucket.png \n",
    "---\n",
    "height: 130px\n",
    "name: complex-bucket\n",
    "---\n",
    "An example of complex flow issue expressed by the visitor and LDA model classification\n",
    "```\n",
    "\n",
    "The clustering technique with LDA would provide an automated workflow of labeling the topic expressed in the feedback of visitors. Hence, the Web Services Team can use these topics as insights for application and optimize the delivery of web services.\n",
    " \n",
    "However, there are several limitations with the text data. First, there is only 3800 text feedback available for analysis. Hence, training a sophisticated clustering model would be a challenge. Another limitation is the complexity of cleaning and preprocessing text. Lastly, LDA is an unsupervised machine learning approach, hence we don’t have the correct notion of how many major topics are present in the text feedback. The team will deal with this issue by comparing the similarity scores of the topic-word distribution for different LDA models. In addition, we don’t have ground truth labels for the main topic of the visitors' feedback.\n",
    "\n"
   ]
  },
  {
   "cell_type": "markdown",
   "metadata": {},
   "source": [
    "\n",
    "### 4. Timeline\n"
   ]
  },
  {
   "cell_type": "markdown",
   "metadata": {},
   "source": [
    "| deliverables               | week1 | week2 | week3 | week4 | week5 | week6 | week7 | week8 |\n",
    "|----------------------------|-------|-------|-------|-------|-------|-------|-------|-------|\n",
    "| proposal presentation      | x  |       |       |       |       |       |       |       |\n",
    "| proposal report            | x | x |       |       |       |       |       |       |\n",
    "| jupyter book               |       |   x    |     x  |    x   |   x    |  x     |  x     |       |\n",
    "| time series forecasting    |       |    x   |     x  |    x   |    x   |  x     |       |       |\n",
    "| prediction on satisfaction |       |    x   |     x  | x      |     x  |  x     |       |       |\n",
    "| survey clustering          |       |     x  |    x   | x      |     x  |  x     |       |       |\n",
    "| final presentation         |       |       |   x    |  x     |     x  |   x    |   x    |       |\n",
    "| final report               |       |       |    x   |  x     |     x  |   x    |   x    |    x   |\n",
    "<div align=\"center\"> <strong>Fig 8:</strong> Timeline for the project task and deliverable</div>"
   ]
  },
  {
   "cell_type": "markdown",
   "metadata": {},
   "source": [
    "Milestone tasks from week 3 to week 6.\n",
    "\n",
    "| Milestones              | Due Date|Tasks | \n",
    "|----------------------------| ------   | ------- |\n",
    "| Milestone 1    | Week 3| preliminary modeling with simple model trails, and simple metrics  |\n",
    "| Milestone 2    | Week 4| research and add extra possible modeling and optimization, proper metrics  |\n",
    "| Milestone 3    | Week 5| feature selection and possible feature engineering  |\n",
    "| Milestone 4    | Week 6| interpretation and more optimization, thinking of limitations  |\n",
    "<div align=\"center\"> <strong>Fig 9:</strong> Milestone tasks from Week 3 to Week 6</div>"
   ]
  },
  {
   "cell_type": "markdown",
   "metadata": {},
   "source": [
    "## 5. Bibliography\n",
    "\n",
    "```{bibliography} references.bib\n",
    "```"
   ]
  }
 ],
 "metadata": {
  "kernelspec": {
   "display_name": "Python 3",
   "language": "python",
   "name": "python3"
  },
  "language_info": {
   "codemirror_mode": {
    "name": "ipython",
    "version": 3
   },
   "file_extension": ".py",
   "mimetype": "text/x-python",
   "name": "python",
   "nbconvert_exporter": "python",
   "pygments_lexer": "ipython3",
   "version": "3.8.3"
  }
 },
 "nbformat": 4,
 "nbformat_minor": 5
}
